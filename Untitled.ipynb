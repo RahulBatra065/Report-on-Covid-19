{
 "cells": [
  {
   "cell_type": "code",
   "execution_count": 7,
   "metadata": {},
   "outputs": [],
   "source": [
    "import numpy as np\n",
    "from matplotlib import pyplot as plt\n",
    "import os \n",
    "import __future__\n",
    "from scipy.integrate import odeint\n"
   ]
  },
  {
   "cell_type": "code",
   "execution_count": 13,
   "metadata": {},
   "outputs": [
    {
     "data": {
      "image/png": "[encoded data removed]",
      "text/plain": [
       "<Figure size 432x288 with 1 Axes>"
      ]
     },
     "metadata": {},
     "output_type": "display_data"
    }
   ],
   "source": [
    "N = 1000\n",
    "# Initial number of infected and recovered individuals, I0 and R0.\n",
    "I0, R0 = 1, 0\n",
    "# Everyone else, S0, is susceptible to infection initially.\n",
    "S0 = N - I0 - R0\n",
    "# Contact rate, beta, and mean recovery rate, gamma, (in 1/days).\n",
    "beta, gamma = 0.2, 1./10 \n",
    "# A grid of time points (in days)\n",
    "t = np.linspace(0, 160, 160)\n",
    "\n",
    "# The SIR model differential equations.\n",
    "def deriv(y, t, N, beta, gamma):\n",
    "    S, I, R = y\n",
    "    dSdt = -beta * S * I / N\n",
    "    dIdt = beta * S * I / N - gamma * I\n",
    "    dRdt = gamma * I\n",
    "    return dSdt, dIdt, dRdt\n",
    "\n",
    "# Initial conditions vector\n",
    "y0 = S0, I0, R0\n",
    "# Integrate the SIR equations over the time grid, t.\n",
    "ret = odeint(deriv, y0, t, args=(N, beta, gamma))\n",
    "S, I, R = ret.T\n",
    "\n",
    "# Plot the data on three separate curves for S(t), I(t) and R(t)\n",
    "fig = plt.figure(facecolor='w')\n",
    "ax = fig.add_subplot(111, axisbelow=True)\n",
    "ax.plot(t, S/1000, 'b', alpha=0.5, lw=2, label='Susceptible')\n",
    "ax.plot(t, I/1000, 'r', alpha=0.5, lw=2, label='Infected')\n",
    "ax.plot(t, R/1000, 'g', alpha=0.5, lw=2, label='Recovered with immunity')\n",
    "ax.set_xlabel('Time /days')\n",
    "ax.set_ylabel('Number (1000s)')\n",
    "ax.set_ylim(0,1.2)\n",
    "ax.yaxis.set_tick_params(length=0)\n",
    "ax.xaxis.set_tick_params(length=0)\n",
    "ax.grid(b=True, which='major', c='w', lw=2, ls='-')\n",
    "legend = ax.legend()\n",
    "legend.get_frame().set_alpha(0.5)\n",
    "for spine in ('top', 'right', 'bottom', 'left'):\n",
    "    ax.spines[spine].set_visible(False)\n",
    "plt.show()"
   ]
  },
  {
   "cell_type": "code",
   "execution_count": 28,
   "metadata": {},
   "outputs": [
    {
     "ename": "IndentationError",
     "evalue": "unindent does not match any outer indentation level (<tokenize>, line 37)",
     "output_type": "error",
     "traceback": [
      "\u001b[0;36m  File \u001b[0;32m\"<tokenize>\"\u001b[0;36m, line \u001b[0;32m37\u001b[0m\n\u001b[0;31m    OD_infected = np.round(OD*infected_mat)\u001b[0m\n\u001b[0m    ^\u001b[0m\n\u001b[0;31mIndentationError\u001b[0m\u001b[0;31m:\u001b[0m unindent does not match any outer indentation level\n"
     ]
    }
   ],
   "source": [
    "import numpy as np\n",
    "  # initialize the population vector from the origin-destination flow matrix\n",
    "N_k = np.abs(np.diagonal(OD) + OD.sum(axis=0) - OD.sum(axis=1))\n",
    "locs_len = len(N_k)                 # number of locations\n",
    "SIR = np.zeros(shape=(locs_len, 3)) # make a numpy array with 3 columns for keeping track of the S, I, R groups\n",
    "SIR[:,0] = N_k                      # initialize the S group with the respective populations\n",
    "  \n",
    "first_infections = np.where(SIR[:, 0]<=thresh, SIR[:, 0]//20, 0)   # for demo purposes, randomly introduce infections\n",
    "SIR[:, 0] = SIR[:, 0] - first_infections\n",
    "SIR[:, 1] = SIR[:, 1] + first_infections                           # move infections to the I group\n",
    "  \n",
    "  # row normalize the SIR matrix for keeping track of group proportions\n",
    "row_sums = SIR.sum(axis=1)\n",
    "SIR_n = SIR / row_sums[:, np.newaxis]\n",
    "  \n",
    "  # initialize parameters\n",
    "beta = 1.6\n",
    "gamma = 0.04\n",
    "public_trans = 0.5                                 # alpha\n",
    "R0 = beta/gamma\n",
    "beta_vec = np.random.gamma(1.6, 2, locs_len)\n",
    "gamma_vec = np.full(locs_len, gamma)\n",
    "public_trans_vec = np.full(locs_len, public_trans)\n",
    "  \n",
    "  # make copy of the SIR matrices \n",
    "SIR_sim = SIR.copy()\n",
    "SIR_nsim = SIR_n.copy()\n",
    "  \n",
    "  # run model\n",
    "print(SIR_sim.sum(axis=0).sum() == N_k.sum())\n",
    "from tqdm import tqdm_notebook\n",
    "infected_pop_norm = []\n",
    "susceptible_pop_norm = []\n",
    "recovered_pop_norm = []\n",
    "for time_step in tqdm_notebook(range(100)):\n",
    "     infected_mat = np.array([SIR_nsim[:,1],]*locs_len).transpose()\n",
    "    OD_infected = np.round(OD*infected_mat)\n",
    "    inflow_infected = OD_infected.sum(axis=0)\n",
    "      inflow_infected = np.round(inflow_infected*public_trans_vec)\n",
    "      print('total infected inflow: ', inflow_infected.sum())\n",
    "      new_infect = beta_vec*SIR_sim[:, 0]*inflow_infected/(N_k + OD.sum(axis=0))\n",
    "      new_recovered = gamma_vec*SIR_sim[:, 1]\n",
    "      new_infect = np.where(new_infect>SIR_sim[:, 0], SIR_sim[:, 0], new_infect)\n",
    "      SIR_sim[:, 0] = SIR_sim[:, 0] - new_infect\n",
    "      SIR_sim[:, 1] = SIR_sim[:, 1] + new_infect - new_recovered\n",
    "      SIR_sim[:, 2] = SIR_sim[:, 2] + new_recovered\n",
    "      SIR_sim = np.where(SIR_sim<0,0,SIR_sim)\n",
    "      # recompute the normalized SIR matrix\n",
    "      row_sums = SIR_sim.sum(axis=1)\n",
    "      SIR_nsim = SIR_sim / row_sums[:, np.newaxis]\n",
    "      S = SIR_sim[:,0].sum()/N_k.sum()\n",
    "      I = SIR_sim[:,1].sum()/N_k.sum()\n",
    "      R = SIR_sim[:,2].sum()/N_k.sum()\n",
    "      print(S, I, R, (S+I+R)*N_k.sum(), N_k.sum())\n",
    "      print('\\n')\n",
    "      infected_pop_norm.append(I)\n",
    "      susceptible_pop_norm.append(S)\n",
    "      recovered_pop_norm.append(R)"
   ]
  },
  {
   "cell_type": "code",
   "execution_count": null,
   "metadata": {},
   "outputs": [],
   "source": []
  }
 ],
 "metadata": {
  "kernelspec": {
   "display_name": "Python 3",
   "language": "python",
   "name": "python3"
  },
  "language_info": {
   "codemirror_mode": {
    "name": "ipython",
    "version": 3
   },
   "file_extension": ".py",
   "mimetype": "text/x-python",
   "name": "python",
   "nbconvert_exporter": "python",
   "pygments_lexer": "ipython3",
   "version": "3.7.7"
  }
 },
 "nbformat": 4,
 "nbformat_minor": 4
}
